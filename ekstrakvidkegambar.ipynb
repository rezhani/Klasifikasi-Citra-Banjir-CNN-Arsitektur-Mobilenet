{
 "cells": [
  {
   "cell_type": "code",
   "execution_count": 6,
   "id": "1b4fbb93",
   "metadata": {},
   "outputs": [],
   "source": [
    "import cv2\n",
    "\n",
    "def proses(video_file, output_dir, fps, num):\n",
    "    cap = cv2.VideoCapture(video_file)\n",
    "    num = num\n",
    "    while cap.isOpened():\n",
    "        ret, frame = cap.read()\n",
    "        if ret:\n",
    "        #mengekstrak 50 frame dari video = 50 : 30(fps) = 1,66666667\n",
    "            if frame_num % (fps // 1.66666667)== 0: \n",
    "                cv2.imwrite(output_dir+\"/image{}.jpg\".format(image_num),frame)\n",
    "                num += 1\n",
    "        else:\n",
    "            break\n",
    "        num += 1\n",
    "\n",
    "    cap.release()\n",
    "    cv2.destroyAllWindows()\n",
    "    return\n",
    "\n",
    "proses(\"DATA/test.mp4\", \"OUTPUT\", 600, 0)\n",
    "#600 merupakan total detik dari video input(10menitx60=600)\n",
    "#sedangkan 0 merupakan awal dari nama gambar hingga 50\n",
    "proses(\"DATA/test2.mp4\", \"OUTPUT\", 600, 50)\n",
    "proses(\"DATA/test3.mp4\", \"OUTPUT\", 1800, 100) \n",
    "proses(\"DATA/test4.mp4\", \"OUTPUT\", 1620, 150)\n",
    "proses(\"DATA/test5.mp4\", \"OUTPUT\", 1800, 200)\n",
    "proses(\"DATA/test6.mp4\", \"OUTPUT\", 1800, 250)"
   ]
  },
  {
   "cell_type": "code",
   "execution_count": null,
   "id": "eba63a4c",
   "metadata": {},
   "outputs": [],
   "source": []
  }
 ],
 "metadata": {
  "kernelspec": {
   "display_name": "Python 3 (ipykernel)",
   "language": "python",
   "name": "python3"
  },
  "language_info": {
   "codemirror_mode": {
    "name": "ipython",
    "version": 3
   },
   "file_extension": ".py",
   "mimetype": "text/x-python",
   "name": "python",
   "nbconvert_exporter": "python",
   "pygments_lexer": "ipython3",
   "version": "3.9.12"
  }
 },
 "nbformat": 4,
 "nbformat_minor": 5
}
